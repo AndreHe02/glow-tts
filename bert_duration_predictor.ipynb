{
 "cells": [
  {
   "cell_type": "code",
   "execution_count": 1,
   "metadata": {},
   "outputs": [],
   "source": [
    "import utils\n",
    "import models\n",
    "import re\n",
    "import torch\n",
    "import commons\n",
    "import numpy as np\n",
    "\n",
    "from torch.utils.data import DataLoader\n",
    "from text.symbols import symbols\n",
    "from data_utils import TextMelLoader, TextMelCollate\n",
    "import re\n",
    "from text import _clean_text"
   ]
  },
  {
   "cell_type": "code",
   "execution_count": 2,
   "metadata": {},
   "outputs": [],
   "source": [
    "import logging\n",
    "logger = logging.getLogger()\n",
    "logger.setLevel(logging.CRITICAL)"
   ]
  },
  {
   "cell_type": "code",
   "execution_count": 3,
   "metadata": {},
   "outputs": [],
   "source": [
    "from text import text_to_sequence, cmudict\n",
    "hps = utils.get_hparams_from_file(\"./configs/base.json\")\n",
    "cmu_dict = cmudict.CMUDict(hps.data.cmudict_path)"
   ]
  },
  {
   "cell_type": "code",
   "execution_count": 4,
   "metadata": {},
   "outputs": [],
   "source": [
    "import transformers\n",
    "from transformers import DistilBertModel, DistilBertTokenizer, DistilBertConfig\n",
    "tokenizer = DistilBertTokenizer.from_pretrained('distilbert-base-cased')"
   ]
  },
  {
   "cell_type": "code",
   "execution_count": 5,
   "metadata": {},
   "outputs": [],
   "source": [
    "class WordPhoneMelLoader(TextMelLoader):\n",
    "    \n",
    "    def __getitem__(self, index):\n",
    "        audiopath, sent = self.audiopaths_and_text[index]\n",
    "        phones, mel = self.get_mel_text_pair((audiopath, sent))\n",
    "        \n",
    "        clean_sent = _clean_text(sent, ['english_cleaners'])\n",
    "        wordpieces = tokenizer.encode(clean_sent, add_special_tokens=True)\n",
    "        wordpieces = torch.IntTensor(wordpieces)\n",
    "\n",
    "        words = clean_sent.split(\" \")\n",
    "        wordpiece_attn = torch.zeros((len(wordpieces), len(words)))\n",
    "        phone_attn = torch.zeros((len(phones), len(words)))\n",
    "\n",
    "        wp_idx = 0\n",
    "        ph_idx = 0\n",
    "        wordpieces_ = wordpieces.numpy()\n",
    "        phones_ = phones.numpy()\n",
    "\n",
    "        for i, word in enumerate(words):\n",
    "            phs = text_to_sequence(word, ['english_cleaners'], cmu_dict)\n",
    "            wps = tokenizer.encode(word, add_special_tokens=False)\n",
    "\n",
    "            while np.any(wordpieces_[wp_idx:wp_idx+len(wps)] - wps):\n",
    "                if wp_idx + len(wps) >= len(wordpieces_):\n",
    "                    break\n",
    "                wp_idx += 1\n",
    "            if not np.any(wordpieces_[wp_idx:wp_idx+len(wps)] - wps):\n",
    "                wordpiece_attn[wp_idx:wp_idx +len(wps), i] = 1\n",
    "            \n",
    "            while np.any(phones_[ph_idx:ph_idx+len(phs)] - phs):\n",
    "                if ph_idx + len(phs) >= len(phones_):\n",
    "                    break\n",
    "                ph_idx += 1\n",
    "            if not np.any(phones_[ph_idx:ph_idx+len(phs)] - phs):\n",
    "                phone_attn[ph_idx:ph_idx + len(phs), i] = 1\n",
    "                if ph_idx+len(phs) < len(phones_) and phones_[ph_idx+len(phs)] == 11:\n",
    "                    phone_attn[ph_idx+len(phs), i] = 1\n",
    "                    ph_idx += 1 \n",
    "                    \n",
    "        assert torch.all(wordpiece_attn.sum(dim=0))\n",
    "        assert torch.all(phone_attn.sum(dim=0))\n",
    "        \n",
    "        return wordpieces, phones, mel, wordpiece_attn, phone_attn"
   ]
  },
  {
   "cell_type": "code",
   "execution_count": 6,
   "metadata": {},
   "outputs": [],
   "source": [
    "class WordPhoneMelCollate(TextMelCollate):\n",
    "    \n",
    "    def __call__(self, batch):\n",
    "        text_lengths = torch.LongTensor([len(x[0]) for x in batch])\n",
    "        max_text_len = max(text_lengths)\n",
    "        text_padded = torch.LongTensor(len(batch), max_text_len)\n",
    "        text_padded.zero_()\n",
    "        for i in range(len(batch)):\n",
    "            text = batch[i][0]\n",
    "            text_padded[i, :text.size(0)] = text\n",
    "\n",
    "        phone_lengths = torch.LongTensor([len(x[1]) for x in batch])\n",
    "        max_phone_len = max(phone_lengths)\n",
    "        phones_padded = torch.LongTensor(len(batch), max_phone_len)\n",
    "        phones_padded.zero_()\n",
    "        for i in range(len(batch)):\n",
    "            phones = batch[i][1]\n",
    "            phones_padded[i, :phones.size(0)] = phones\n",
    "    \n",
    "        num_mels = batch[0][2].size(0)\n",
    "        max_target_len = max([x[2].size(1) for x in batch])\n",
    "        if max_target_len % self.n_frames_per_step != 0:\n",
    "            max_target_len += self.n_frames_per_step - max_target_len % self.n_frames_per_step\n",
    "            assert max_target_len % self.n_frames_per_step == 0\n",
    "        mel_padded = torch.FloatTensor(len(batch), num_mels, max_target_len)\n",
    "        mel_padded.zero_()\n",
    "        mel_lengths = torch.LongTensor(len(batch))\n",
    "        for i in range(len(batch)):\n",
    "            mel = batch[i][2]\n",
    "            mel_padded[i, :, :mel.size(1)] = mel\n",
    "            mel_lengths[i] = mel.size(1)\n",
    "            \n",
    "        max_word_count = max([x[3].size(1) for x in batch])\n",
    "        wordpiece_attn_padded = torch.zeros((len(batch), max_text_len, max_word_count))\n",
    "        phone_attn_padded = torch.zeros((len(batch), max_phone_len, max_word_count))\n",
    "        for i in range(len(batch)):\n",
    "            wordpiece_attn_padded[i, :batch[i][3].size(0), :batch[i][3].size(1)] = batch[i][3]\n",
    "            phone_attn_padded[i, :batch[i][4].size(0), :batch[i][4].size(1)] = batch[i][4]\n",
    "        \n",
    "        return text_padded, text_lengths, phones_padded, phone_lengths, mel_padded, mel_lengths, wordpiece_attn_padded, phone_attn_padded"
   ]
  },
  {
   "cell_type": "code",
   "execution_count": 7,
   "metadata": {},
   "outputs": [],
   "source": [
    "collate_fn = WordPhoneMelCollate(1)\n",
    "\n",
    "train_dataset = WordPhoneMelLoader(hps.data.training_files, hps.data)\n",
    "train_loader = DataLoader(train_dataset, num_workers=8, shuffle=False,\n",
    "      batch_size=hps.train.batch_size, pin_memory=True,\n",
    "      drop_last=True, collate_fn=collate_fn)\n",
    "\n",
    "test_dataset = WordPhoneMelLoader('filelists/ljs_audio_text_test_filelist.txt', hps.data)\n",
    "test_loader = DataLoader(test_dataset, num_workers=8, shuffle=False,\n",
    "      batch_size=hps.train.batch_size, pin_memory=True,\n",
    "      drop_last=True, collate_fn=collate_fn)"
   ]
  },
  {
   "cell_type": "code",
   "execution_count": 8,
   "metadata": {},
   "outputs": [],
   "source": [
    "hps = utils.get_hparams_from_file(\"./configs/base.json\")\n",
    "checkpoint_path = \"pretrained/pretrained.pth\"\n",
    "\n",
    "model = models.FlowGenerator(\n",
    "    len(symbols) + getattr(hps.data, \"add_blank\", False),\n",
    "    out_channels=hps.data.n_mel_channels,\n",
    "    **hps.model).to(\"cuda\")\n",
    "\n",
    "utils.load_checkpoint(checkpoint_path, model)\n",
    "model.decoder.store_inverse() # do not calcuate jacobians for fast decoding\n",
    "generator = model\n",
    "_ = generator.eval()"
   ]
  },
  {
   "cell_type": "code",
   "execution_count": 9,
   "metadata": {},
   "outputs": [],
   "source": [
    "import torch.nn as nn\n",
    "import torch.optim as optim\n",
    "\n",
    "\n",
    "#class BertLinearDP(nn.Module):\n",
    "    \n",
    "#    def __init__(self):\n",
    "#        super().__init__()\n",
    "#        self.bert = DistilBertModel.from_pretrained(\"distilbert-base-uncased\")\n",
    "#        self.hidden_dim = self.bert.config.dim\n",
    "#        #self.proj = nn.Conv1d(self.hidden_dim, 1, 1) # just a linear layer, but glow tts does this\n",
    "#        self.proj = nn.Linear(self.hidden_dim, 1)\n",
    "        #nn.init.xavier_uniform(self.proj.weight)\n",
    "    \n",
    "#    def forward(self, wp, ph, wp_attn, ph_attn):\n",
    "#        #with torch.no_grad():\n",
    "#        wp_embed = self.bert(wp)[0]  # [b, #wp, dim=768]\n",
    "#        word_embed = torch.einsum('bpd, bpw -> bwd', wp_embed, wp_attn)\n",
    "#        wp_per_word = torch.sum(wp_attn, dim=1).unsqueeze(dim=-1)\n",
    "#        word_embed = word_embed / torch.maximum(wp_per_word, torch.ones_like(wp_per_word)) # [b, #w, dim]\n",
    "#        ph_embed = torch.einsum('bwd, bpw -> bpd', word_embed, ph_attn) # [b, #ph, dim]\n",
    "     \n",
    "#        x = ph_embed\n",
    "        #x = x.transpose(1, 2)\n",
    "#        x = self.proj(x)\n",
    "#        x = x.transpose(1, 2)\n",
    "#        return x\n",
    "\n",
    "\n",
    "class BertLinearDP2(nn.Module):\n",
    "    \n",
    "    def __init__(self, bert):\n",
    "        super().__init__()\n",
    "        self.bert = bert\n",
    "        self.hidden_dim = self.bert.config.dim\n",
    "        #self.proj = nn.Linear(self.hidden_dim, 1) \n",
    "        self.ph_vecs = nn.Embedding(len(symbols)+1, self.hidden_dim, max_norm=1)\n",
    "    \n",
    "    def forward(self, wp, ph, wp_attn, ph_attn):\n",
    "        wp_embed = self.bert(wp)[0]  # [b, #wp, dim=768]\n",
    "        word_embed = torch.einsum('bpd, bpw -> bwd', wp_embed, wp_attn)\n",
    "        wp_per_word = torch.sum(wp_attn, dim=1).unsqueeze(dim=-1)\n",
    "        word_embed = word_embed / torch.maximum(wp_per_word, torch.ones_like(wp_per_word)) # [b, #w, dim]\n",
    "        ph_embed = torch.einsum('bwd, bpw -> bpd', word_embed, ph_attn) # [b, #ph, dim]\n",
    "    \n",
    "        #print('WP', wp[0])\n",
    "        #print('PH', ph[0])\n",
    "        #print('WPA', wp_attn[0])\n",
    "        #print('PHA', ph_attn[0])\n",
    "        #print('WEM', word_embed[0])\n",
    "        #print('PEM', ph_embed[0])\n",
    "        #return\n",
    "        ph_vec = self.ph_vecs(ph)\n",
    "        log_durs = torch.einsum('bpd, bpd -> bp', ph_embed, ph_vec)\n",
    "        log_durs = log_durs.unsqueeze(dim=1)\n",
    "        #log_durs = self.proj(ph_embed)\n",
    "        #log_durs = log_durs.transpose(1, 2)\n",
    "        return log_durs"
   ]
  },
  {
   "cell_type": "code",
   "execution_count": 10,
   "metadata": {},
   "outputs": [],
   "source": [
    "from tqdm import tqdm\n",
    "\n",
    "def train(num_epochs, model, opt):\n",
    "    model.train()\n",
    "    print('Control ', evaluate_control())\n",
    "    log = {'train':[], 'test':[]}\n",
    "    for epoch in range(num_epochs):\n",
    "        total_loss = 0\n",
    "        for batch_idx, (wp, wp_len, ph, ph_len, mel, mel_len, wp_attn, ph_attn) in tqdm(enumerate(train_loader)):\n",
    "            with torch.no_grad():\n",
    "                wp, wp_len = wp.cuda(), wp_len.cuda()\n",
    "                ph, ph_len = ph.cuda(), ph_len.cuda()\n",
    "                mel, mel_len = mel.cuda(), mel_len.cuda()\n",
    "                wp_attn, ph_attn = wp_attn.float().cuda(), ph_attn.float().cuda() # [b, #wp, #wrds], [b, #ph, #wrds]\n",
    "\n",
    "                (z, z_m, z_logs, logdet, z_mask), (x_m, x_logs, x_mask), (attn, logw, logw_) = \\\n",
    "                    generator(ph, ph_len, mel, mel_len, gen=False)\n",
    "                \n",
    "            log_durs = model(wp, ph, wp_attn, ph_attn)\n",
    "            \n",
    "            #loss = commons.duration_loss(logw + log_durs, logw_, ph_len)\n",
    "            loss = commons.duration_loss(log_durs, logw_, ph_len)\n",
    "            opt.zero_grad()\n",
    "            loss.backward()\n",
    "            opt.step()\n",
    "            total_loss += loss.item()\n",
    "            \n",
    "        train_loss = total_loss / len(train_loader)\n",
    "        test_loss = evaluate(model)\n",
    "        print('Train, Test:')\n",
    "        print(train_loss, test_loss)\n",
    "        log['train'].append(train_loss)\n",
    "        log['test'].append(test_loss)\n",
    "    return log\n",
    "    \n",
    "def evaluate(model):\n",
    "    model.eval()\n",
    "    total_loss = 0 \n",
    "    with torch.no_grad():\n",
    "        for batch_idx, (wp, wp_len, ph, ph_len, mel, mel_len, wp_attn, ph_attn) in enumerate(test_loader):\n",
    "            wp, wp_len = wp.cuda(), wp_len.cuda()\n",
    "            ph, ph_len = ph.cuda(), ph_len.cuda()\n",
    "            mel, mel_len = mel.cuda(), mel_len.cuda()\n",
    "            wp_attn, ph_attn = wp_attn.float().cuda(), ph_attn.float().cuda() # [b, #wp, #wrds], [b, #ph, #wrds]\n",
    "\n",
    "            (z, z_m, z_logs, logdet, z_mask), (x_m, x_logs, x_mask), (attn, logw, logw_) = \\\n",
    "                generator(ph, ph_len, mel, mel_len, gen=False)\n",
    "\n",
    "            log_durs = model(wp, ph, wp_attn, ph_attn)\n",
    "            #loss = commons.duration_loss(logw + log_durs, logw_, ph_len)\n",
    "            loss = commons.duration_loss(log_durs, logw_, ph_len)\n",
    "            total_loss += loss.item()\n",
    "            \n",
    "    return total_loss / len(test_loader)\n",
    "\n",
    "def evaluate_control():\n",
    "    total_loss = 0 \n",
    "    with torch.no_grad():\n",
    "        for batch_idx, (wp, wp_len, ph, ph_len, mel, mel_len, wp_attn, ph_attn) in enumerate(test_loader):\n",
    "            wp, wp_len = wp.cuda(), wp_len.cuda()\n",
    "            ph, ph_len = ph.cuda(), ph_len.cuda()\n",
    "            mel, mel_len = mel.cuda(), mel_len.cuda()\n",
    "            wp_attn, ph_attn = wp_attn.float().cuda(), ph_attn.float().cuda() # [b, #wp, #wrds], [b, #ph, #wrds]\n",
    "\n",
    "            (z, z_m, z_logs, logdet, z_mask), (x_m, x_logs, x_mask), (attn, logw, logw_) = \\\n",
    "                generator(ph, ph_len, mel, mel_len, gen=False)\n",
    "\n",
    "            loss = commons.duration_loss(logw, logw_, ph_len)\n",
    "            total_loss += loss.item()\n",
    "    return total_loss / len(test_loader)"
   ]
  },
  {
   "cell_type": "code",
   "execution_count": 11,
   "metadata": {},
   "outputs": [
    {
     "name": "stdout",
     "output_type": "stream",
     "text": [
      "Control  0.31724759737650554\n"
     ]
    },
    {
     "name": "stderr",
     "output_type": "stream",
     "text": [
      "390it [02:55,  2.23it/s]\n"
     ]
    },
    {
     "name": "stdout",
     "output_type": "stream",
     "text": [
      "Train, Test:\n",
      "0.8369555312089431 0.5179745932420095\n"
     ]
    },
    {
     "name": "stderr",
     "output_type": "stream",
     "text": [
      "390it [03:42,  1.75it/s]\n"
     ]
    },
    {
     "name": "stdout",
     "output_type": "stream",
     "text": [
      "Train, Test:\n",
      "0.43045527812762135 0.46078721483548485\n"
     ]
    },
    {
     "name": "stderr",
     "output_type": "stream",
     "text": [
      "390it [03:26,  1.89it/s]\n"
     ]
    },
    {
     "name": "stdout",
     "output_type": "stream",
     "text": [
      "Train, Test:\n",
      "0.3967817553342917 0.44199420015017193\n"
     ]
    },
    {
     "name": "stderr",
     "output_type": "stream",
     "text": [
      "390it [03:26,  1.89it/s]\n"
     ]
    },
    {
     "name": "stdout",
     "output_type": "stream",
     "text": [
      "Train, Test:\n",
      "0.3782734953440153 0.4308473209540049\n"
     ]
    },
    {
     "name": "stderr",
     "output_type": "stream",
     "text": [
      "390it [03:30,  1.86it/s]\n"
     ]
    },
    {
     "name": "stdout",
     "output_type": "stream",
     "text": [
      "Train, Test:\n",
      "0.36250882492615627 0.42140870292981464\n"
     ]
    },
    {
     "name": "stderr",
     "output_type": "stream",
     "text": [
      "390it [03:25,  1.90it/s]\n"
     ]
    },
    {
     "name": "stdout",
     "output_type": "stream",
     "text": [
      "Train, Test:\n",
      "0.34844831816661054 0.4153084417184194\n"
     ]
    },
    {
     "name": "stderr",
     "output_type": "stream",
     "text": [
      "390it [03:28,  1.87it/s]\n"
     ]
    },
    {
     "name": "stdout",
     "output_type": "stream",
     "text": [
      "Train, Test:\n",
      "0.3353536685307821 0.4104386270046234\n"
     ]
    },
    {
     "name": "stderr",
     "output_type": "stream",
     "text": [
      "390it [03:24,  1.91it/s]\n"
     ]
    },
    {
     "name": "stdout",
     "output_type": "stream",
     "text": [
      "Train, Test:\n",
      "0.32282739075330585 0.40918992360432943\n"
     ]
    },
    {
     "name": "stderr",
     "output_type": "stream",
     "text": [
      "390it [03:26,  1.89it/s]\n"
     ]
    },
    {
     "name": "stdout",
     "output_type": "stream",
     "text": [
      "Train, Test:\n",
      "0.31087696628692824 0.40958525935808815\n"
     ]
    },
    {
     "name": "stderr",
     "output_type": "stream",
     "text": [
      "390it [03:27,  1.88it/s]\n"
     ]
    },
    {
     "name": "stdout",
     "output_type": "stream",
     "text": [
      "Train, Test:\n",
      "0.2998090383334038 0.4083112438519796\n"
     ]
    },
    {
     "name": "stderr",
     "output_type": "stream",
     "text": [
      "390it [03:30,  1.86it/s]\n"
     ]
    },
    {
     "name": "stdout",
     "output_type": "stream",
     "text": [
      "Train, Test:\n",
      "0.2891913157625076 0.40863457520802815\n"
     ]
    },
    {
     "name": "stderr",
     "output_type": "stream",
     "text": [
      "390it [03:28,  1.87it/s]\n"
     ]
    },
    {
     "name": "stdout",
     "output_type": "stream",
     "text": [
      "Train, Test:\n",
      "0.2785097567316813 0.40946022272109983\n"
     ]
    },
    {
     "name": "stderr",
     "output_type": "stream",
     "text": [
      "390it [03:28,  1.87it/s]\n"
     ]
    },
    {
     "name": "stdout",
     "output_type": "stream",
     "text": [
      "Train, Test:\n",
      "0.26817404394730543 0.4145443419615428\n"
     ]
    },
    {
     "name": "stderr",
     "output_type": "stream",
     "text": [
      "390it [03:26,  1.89it/s]\n"
     ]
    },
    {
     "name": "stdout",
     "output_type": "stream",
     "text": [
      "Train, Test:\n",
      "0.25783609377268035 0.41941537062327067\n"
     ]
    },
    {
     "name": "stderr",
     "output_type": "stream",
     "text": [
      "390it [03:27,  1.88it/s]\n"
     ]
    },
    {
     "name": "stdout",
     "output_type": "stream",
     "text": [
      "Train, Test:\n",
      "0.24757022922619795 0.42045539220174155\n"
     ]
    },
    {
     "name": "stderr",
     "output_type": "stream",
     "text": [
      "390it [03:27,  1.88it/s]\n"
     ]
    },
    {
     "name": "stdout",
     "output_type": "stream",
     "text": [
      "Train, Test:\n",
      "0.2382685934503873 0.42391444444656373\n"
     ]
    },
    {
     "name": "stderr",
     "output_type": "stream",
     "text": [
      "390it [03:24,  1.90it/s]\n"
     ]
    },
    {
     "name": "stdout",
     "output_type": "stream",
     "text": [
      "Train, Test:\n",
      "0.23012439348758795 0.42494653860727943\n"
     ]
    },
    {
     "name": "stderr",
     "output_type": "stream",
     "text": [
      "390it [03:27,  1.88it/s]\n"
     ]
    },
    {
     "name": "stdout",
     "output_type": "stream",
     "text": [
      "Train, Test:\n",
      "0.22433063120414048 0.4351039429505666\n"
     ]
    },
    {
     "name": "stderr",
     "output_type": "stream",
     "text": [
      "390it [03:29,  1.86it/s]\n"
     ]
    },
    {
     "name": "stdout",
     "output_type": "stream",
     "text": [
      "Train, Test:\n",
      "0.2179053572508005 0.4283308804035187\n"
     ]
    },
    {
     "name": "stderr",
     "output_type": "stream",
     "text": [
      "390it [03:26,  1.89it/s]\n"
     ]
    },
    {
     "name": "stdout",
     "output_type": "stream",
     "text": [
      "Train, Test:\n",
      "0.20809619827912404 0.4277279019355774\n"
     ]
    }
   ],
   "source": [
    "bert = DistilBertModel.from_pretrained(\"distilbert-base-uncased\")\n",
    "dp = BertLinearDP2(bert).cuda()\n",
    "optimizer = optim.Adam(dp.parameters(), lr=1e-5)\n",
    "log = train(20, dp, optimizer)"
   ]
  },
  {
   "cell_type": "code",
   "execution_count": 12,
   "metadata": {},
   "outputs": [],
   "source": [
    "untrained_bert = DistilBertModel(DistilBertConfig())\n",
    "dp_control = BertLinearDP2(untrained_bert).cuda()\n",
    "optimizer_control = optim.Adam(dp_control.parameters(), lr=1e-5)"
   ]
  },
  {
   "cell_type": "code",
   "execution_count": 13,
   "metadata": {},
   "outputs": [
    {
     "name": "stdout",
     "output_type": "stream",
     "text": [
      "Control  0.31758766969045005\n"
     ]
    },
    {
     "name": "stderr",
     "output_type": "stream",
     "text": [
      "390it [03:22,  1.92it/s]\n"
     ]
    },
    {
     "name": "stdout",
     "output_type": "stream",
     "text": [
      "Train, Test:\n",
      "0.6616690676945907 0.48275356690088905\n"
     ]
    },
    {
     "name": "stderr",
     "output_type": "stream",
     "text": [
      "390it [04:03,  1.60it/s]\n"
     ]
    },
    {
     "name": "stdout",
     "output_type": "stream",
     "text": [
      "Train, Test:\n",
      "0.4192192980876336 0.4639075458049774\n"
     ]
    },
    {
     "name": "stderr",
     "output_type": "stream",
     "text": [
      "390it [03:52,  1.68it/s]\n"
     ]
    },
    {
     "name": "stdout",
     "output_type": "stream",
     "text": [
      "Train, Test:\n",
      "0.3984357539659891 0.4469440937042236\n"
     ]
    },
    {
     "name": "stderr",
     "output_type": "stream",
     "text": [
      "390it [04:00,  1.62it/s]\n"
     ]
    },
    {
     "name": "stdout",
     "output_type": "stream",
     "text": [
      "Train, Test:\n",
      "0.3802150887556565 0.4366282900174459\n"
     ]
    },
    {
     "name": "stderr",
     "output_type": "stream",
     "text": [
      "390it [04:07,  1.58it/s]\n"
     ]
    },
    {
     "name": "stdout",
     "output_type": "stream",
     "text": [
      "Train, Test:\n",
      "0.36605610266709937 0.4307195703188578\n"
     ]
    },
    {
     "name": "stderr",
     "output_type": "stream",
     "text": [
      "278it [02:54,  1.60it/s]\n"
     ]
    },
    {
     "ename": "KeyboardInterrupt",
     "evalue": "",
     "output_type": "error",
     "traceback": [
      "\u001b[0;31m---------------------------------------------------------------------------\u001b[0m",
      "\u001b[0;31mKeyboardInterrupt\u001b[0m                         Traceback (most recent call last)",
      "\u001b[0;32m<ipython-input-13-39f42d84051a>\u001b[0m in \u001b[0;36m<module>\u001b[0;34m\u001b[0m\n\u001b[0;32m----> 1\u001b[0;31m \u001b[0mlog_control\u001b[0m \u001b[0;34m=\u001b[0m \u001b[0mtrain\u001b[0m\u001b[0;34m(\u001b[0m\u001b[0;36m20\u001b[0m\u001b[0;34m,\u001b[0m \u001b[0mdp_control\u001b[0m\u001b[0;34m,\u001b[0m \u001b[0moptimizer_control\u001b[0m\u001b[0;34m)\u001b[0m\u001b[0;34m\u001b[0m\u001b[0;34m\u001b[0m\u001b[0m\n\u001b[0m",
      "\u001b[0;32m<ipython-input-10-ae23912a0df0>\u001b[0m in \u001b[0;36mtrain\u001b[0;34m(num_epochs, model, opt)\u001b[0m\n\u001b[1;32m     15\u001b[0m \u001b[0;34m\u001b[0m\u001b[0m\n\u001b[1;32m     16\u001b[0m                 \u001b[0;34m(\u001b[0m\u001b[0mz\u001b[0m\u001b[0;34m,\u001b[0m \u001b[0mz_m\u001b[0m\u001b[0;34m,\u001b[0m \u001b[0mz_logs\u001b[0m\u001b[0;34m,\u001b[0m \u001b[0mlogdet\u001b[0m\u001b[0;34m,\u001b[0m \u001b[0mz_mask\u001b[0m\u001b[0;34m)\u001b[0m\u001b[0;34m,\u001b[0m \u001b[0;34m(\u001b[0m\u001b[0mx_m\u001b[0m\u001b[0;34m,\u001b[0m \u001b[0mx_logs\u001b[0m\u001b[0;34m,\u001b[0m \u001b[0mx_mask\u001b[0m\u001b[0;34m)\u001b[0m\u001b[0;34m,\u001b[0m \u001b[0;34m(\u001b[0m\u001b[0mattn\u001b[0m\u001b[0;34m,\u001b[0m \u001b[0mlogw\u001b[0m\u001b[0;34m,\u001b[0m \u001b[0mlogw_\u001b[0m\u001b[0;34m)\u001b[0m \u001b[0;34m=\u001b[0m\u001b[0;31m \u001b[0m\u001b[0;31m\\\u001b[0m\u001b[0;34m\u001b[0m\u001b[0;34m\u001b[0m\u001b[0m\n\u001b[0;32m---> 17\u001b[0;31m                     \u001b[0mgenerator\u001b[0m\u001b[0;34m(\u001b[0m\u001b[0mph\u001b[0m\u001b[0;34m,\u001b[0m \u001b[0mph_len\u001b[0m\u001b[0;34m,\u001b[0m \u001b[0mmel\u001b[0m\u001b[0;34m,\u001b[0m \u001b[0mmel_len\u001b[0m\u001b[0;34m,\u001b[0m \u001b[0mgen\u001b[0m\u001b[0;34m=\u001b[0m\u001b[0;32mFalse\u001b[0m\u001b[0;34m)\u001b[0m\u001b[0;34m\u001b[0m\u001b[0;34m\u001b[0m\u001b[0m\n\u001b[0m\u001b[1;32m     18\u001b[0m \u001b[0;34m\u001b[0m\u001b[0m\n\u001b[1;32m     19\u001b[0m             \u001b[0mlog_durs\u001b[0m \u001b[0;34m=\u001b[0m \u001b[0mmodel\u001b[0m\u001b[0;34m(\u001b[0m\u001b[0mwp\u001b[0m\u001b[0;34m,\u001b[0m \u001b[0mph\u001b[0m\u001b[0;34m,\u001b[0m \u001b[0mwp_attn\u001b[0m\u001b[0;34m,\u001b[0m \u001b[0mph_attn\u001b[0m\u001b[0;34m)\u001b[0m\u001b[0;34m\u001b[0m\u001b[0;34m\u001b[0m\u001b[0m\n",
      "\u001b[0;32m~/sources/conda/envs/py37/lib/python3.7/site-packages/torch/nn/modules/module.py\u001b[0m in \u001b[0;36m_call_impl\u001b[0;34m(self, *input, **kwargs)\u001b[0m\n\u001b[1;32m    887\u001b[0m             \u001b[0mresult\u001b[0m \u001b[0;34m=\u001b[0m \u001b[0mself\u001b[0m\u001b[0;34m.\u001b[0m\u001b[0m_slow_forward\u001b[0m\u001b[0;34m(\u001b[0m\u001b[0;34m*\u001b[0m\u001b[0minput\u001b[0m\u001b[0;34m,\u001b[0m \u001b[0;34m**\u001b[0m\u001b[0mkwargs\u001b[0m\u001b[0;34m)\u001b[0m\u001b[0;34m\u001b[0m\u001b[0;34m\u001b[0m\u001b[0m\n\u001b[1;32m    888\u001b[0m         \u001b[0;32melse\u001b[0m\u001b[0;34m:\u001b[0m\u001b[0;34m\u001b[0m\u001b[0;34m\u001b[0m\u001b[0m\n\u001b[0;32m--> 889\u001b[0;31m             \u001b[0mresult\u001b[0m \u001b[0;34m=\u001b[0m \u001b[0mself\u001b[0m\u001b[0;34m.\u001b[0m\u001b[0mforward\u001b[0m\u001b[0;34m(\u001b[0m\u001b[0;34m*\u001b[0m\u001b[0minput\u001b[0m\u001b[0;34m,\u001b[0m \u001b[0;34m**\u001b[0m\u001b[0mkwargs\u001b[0m\u001b[0;34m)\u001b[0m\u001b[0;34m\u001b[0m\u001b[0;34m\u001b[0m\u001b[0m\n\u001b[0m\u001b[1;32m    890\u001b[0m         for hook in itertools.chain(\n\u001b[1;32m    891\u001b[0m                 \u001b[0m_global_forward_hooks\u001b[0m\u001b[0;34m.\u001b[0m\u001b[0mvalues\u001b[0m\u001b[0;34m(\u001b[0m\u001b[0;34m)\u001b[0m\u001b[0;34m,\u001b[0m\u001b[0;34m\u001b[0m\u001b[0;34m\u001b[0m\u001b[0m\n",
      "\u001b[0;32m~/andrehe/glow-tts/models.py\u001b[0m in \u001b[0;36mforward\u001b[0;34m(self, x, x_lengths, y, y_lengths, g, gen, noise_scale, length_scale, hardcoded_durs)\u001b[0m\n\u001b[1;32m    318\u001b[0m         \u001b[0mlogp\u001b[0m \u001b[0;34m=\u001b[0m \u001b[0mlogp1\u001b[0m \u001b[0;34m+\u001b[0m \u001b[0mlogp2\u001b[0m \u001b[0;34m+\u001b[0m \u001b[0mlogp3\u001b[0m \u001b[0;34m+\u001b[0m \u001b[0mlogp4\u001b[0m \u001b[0;31m# [b, t, t']\u001b[0m\u001b[0;34m\u001b[0m\u001b[0;34m\u001b[0m\u001b[0m\n\u001b[1;32m    319\u001b[0m \u001b[0;34m\u001b[0m\u001b[0m\n\u001b[0;32m--> 320\u001b[0;31m         \u001b[0mattn\u001b[0m \u001b[0;34m=\u001b[0m \u001b[0mmonotonic_align\u001b[0m\u001b[0;34m.\u001b[0m\u001b[0mmaximum_path\u001b[0m\u001b[0;34m(\u001b[0m\u001b[0mlogp\u001b[0m\u001b[0;34m,\u001b[0m \u001b[0mattn_mask\u001b[0m\u001b[0;34m.\u001b[0m\u001b[0msqueeze\u001b[0m\u001b[0;34m(\u001b[0m\u001b[0;36m1\u001b[0m\u001b[0;34m)\u001b[0m\u001b[0;34m)\u001b[0m\u001b[0;34m.\u001b[0m\u001b[0munsqueeze\u001b[0m\u001b[0;34m(\u001b[0m\u001b[0;36m1\u001b[0m\u001b[0;34m)\u001b[0m\u001b[0;34m.\u001b[0m\u001b[0mdetach\u001b[0m\u001b[0;34m(\u001b[0m\u001b[0;34m)\u001b[0m\u001b[0;34m\u001b[0m\u001b[0;34m\u001b[0m\u001b[0m\n\u001b[0m\u001b[1;32m    321\u001b[0m       \u001b[0mz_m\u001b[0m \u001b[0;34m=\u001b[0m \u001b[0mtorch\u001b[0m\u001b[0;34m.\u001b[0m\u001b[0mmatmul\u001b[0m\u001b[0;34m(\u001b[0m\u001b[0mattn\u001b[0m\u001b[0;34m.\u001b[0m\u001b[0msqueeze\u001b[0m\u001b[0;34m(\u001b[0m\u001b[0;36m1\u001b[0m\u001b[0;34m)\u001b[0m\u001b[0;34m.\u001b[0m\u001b[0mtranspose\u001b[0m\u001b[0;34m(\u001b[0m\u001b[0;36m1\u001b[0m\u001b[0;34m,\u001b[0m \u001b[0;36m2\u001b[0m\u001b[0;34m)\u001b[0m\u001b[0;34m,\u001b[0m \u001b[0mx_m\u001b[0m\u001b[0;34m.\u001b[0m\u001b[0mtranspose\u001b[0m\u001b[0;34m(\u001b[0m\u001b[0;36m1\u001b[0m\u001b[0;34m,\u001b[0m \u001b[0;36m2\u001b[0m\u001b[0;34m)\u001b[0m\u001b[0;34m)\u001b[0m\u001b[0;34m.\u001b[0m\u001b[0mtranspose\u001b[0m\u001b[0;34m(\u001b[0m\u001b[0;36m1\u001b[0m\u001b[0;34m,\u001b[0m \u001b[0;36m2\u001b[0m\u001b[0;34m)\u001b[0m \u001b[0;31m# [b, t', t], [b, t, d] -> [b, d, t']\u001b[0m\u001b[0;34m\u001b[0m\u001b[0;34m\u001b[0m\u001b[0m\n\u001b[1;32m    322\u001b[0m       \u001b[0mz_logs\u001b[0m \u001b[0;34m=\u001b[0m \u001b[0mtorch\u001b[0m\u001b[0;34m.\u001b[0m\u001b[0mmatmul\u001b[0m\u001b[0;34m(\u001b[0m\u001b[0mattn\u001b[0m\u001b[0;34m.\u001b[0m\u001b[0msqueeze\u001b[0m\u001b[0;34m(\u001b[0m\u001b[0;36m1\u001b[0m\u001b[0;34m)\u001b[0m\u001b[0;34m.\u001b[0m\u001b[0mtranspose\u001b[0m\u001b[0;34m(\u001b[0m\u001b[0;36m1\u001b[0m\u001b[0;34m,\u001b[0m \u001b[0;36m2\u001b[0m\u001b[0;34m)\u001b[0m\u001b[0;34m,\u001b[0m \u001b[0mx_logs\u001b[0m\u001b[0;34m.\u001b[0m\u001b[0mtranspose\u001b[0m\u001b[0;34m(\u001b[0m\u001b[0;36m1\u001b[0m\u001b[0;34m,\u001b[0m \u001b[0;36m2\u001b[0m\u001b[0;34m)\u001b[0m\u001b[0;34m)\u001b[0m\u001b[0;34m.\u001b[0m\u001b[0mtranspose\u001b[0m\u001b[0;34m(\u001b[0m\u001b[0;36m1\u001b[0m\u001b[0;34m,\u001b[0m \u001b[0;36m2\u001b[0m\u001b[0;34m)\u001b[0m \u001b[0;31m# [b, t', t], [b, t, d] -> [b, d, t']\u001b[0m\u001b[0;34m\u001b[0m\u001b[0;34m\u001b[0m\u001b[0m\n",
      "\u001b[0;32m~/andrehe/glow-tts/monotonic_align/__init__.py\u001b[0m in \u001b[0;36mmaximum_path\u001b[0;34m(value, mask)\u001b[0m\n\u001b[1;32m     19\u001b[0m   \u001b[0mt_y_max\u001b[0m \u001b[0;34m=\u001b[0m \u001b[0mmask\u001b[0m\u001b[0;34m.\u001b[0m\u001b[0msum\u001b[0m\u001b[0;34m(\u001b[0m\u001b[0;36m2\u001b[0m\u001b[0;34m)\u001b[0m\u001b[0;34m[\u001b[0m\u001b[0;34m:\u001b[0m\u001b[0;34m,\u001b[0m \u001b[0;36m0\u001b[0m\u001b[0;34m]\u001b[0m\u001b[0;34m.\u001b[0m\u001b[0mastype\u001b[0m\u001b[0;34m(\u001b[0m\u001b[0mnp\u001b[0m\u001b[0;34m.\u001b[0m\u001b[0mint32\u001b[0m\u001b[0;34m)\u001b[0m\u001b[0;34m\u001b[0m\u001b[0;34m\u001b[0m\u001b[0m\n\u001b[1;32m     20\u001b[0m   \u001b[0mmaximum_path_c\u001b[0m\u001b[0;34m(\u001b[0m\u001b[0mpath\u001b[0m\u001b[0;34m,\u001b[0m \u001b[0mvalue\u001b[0m\u001b[0;34m,\u001b[0m \u001b[0mt_x_max\u001b[0m\u001b[0;34m,\u001b[0m \u001b[0mt_y_max\u001b[0m\u001b[0;34m)\u001b[0m\u001b[0;34m\u001b[0m\u001b[0;34m\u001b[0m\u001b[0m\n\u001b[0;32m---> 21\u001b[0;31m   \u001b[0;32mreturn\u001b[0m \u001b[0mtorch\u001b[0m\u001b[0;34m.\u001b[0m\u001b[0mfrom_numpy\u001b[0m\u001b[0;34m(\u001b[0m\u001b[0mpath\u001b[0m\u001b[0;34m)\u001b[0m\u001b[0;34m.\u001b[0m\u001b[0mto\u001b[0m\u001b[0;34m(\u001b[0m\u001b[0mdevice\u001b[0m\u001b[0;34m=\u001b[0m\u001b[0mdevice\u001b[0m\u001b[0;34m,\u001b[0m \u001b[0mdtype\u001b[0m\u001b[0;34m=\u001b[0m\u001b[0mdtype\u001b[0m\u001b[0;34m)\u001b[0m\u001b[0;34m\u001b[0m\u001b[0;34m\u001b[0m\u001b[0m\n\u001b[0m",
      "\u001b[0;31mKeyboardInterrupt\u001b[0m: "
     ]
    }
   ],
   "source": [
    "log_control = train(20, dp_control, optimizer_control)"
   ]
  },
  {
   "cell_type": "code",
   "execution_count": 26,
   "metadata": {},
   "outputs": [
    {
     "data": {
      "text/plain": [
       "[<matplotlib.lines.Line2D at 0x7f1363594e90>]"
      ]
     },
     "execution_count": 26,
     "metadata": {},
     "output_type": "execute_result"
    },
    {
     "data": {
      "image/png": "[encoded data removed]",
      "text/plain": [
       "<Figure size 432x288 with 1 Axes>"
      ]
     },
     "metadata": {
      "needs_background": "light"
     },
     "output_type": "display_data"
    }
   ],
   "source": [
    "import matplotlib.pyplot as plt\n",
    "plt.figure()\n",
    "plt.plot(log_control['test'], c='r')\n",
    "plt.plot(log['test'], c='b')"
   ]
  },
  {
   "cell_type": "code",
   "execution_count": 33,
   "metadata": {},
   "outputs": [
    {
     "data": {
      "text/plain": [
       "[<matplotlib.lines.Line2D at 0x7f136bd05510>]"
      ]
     },
     "execution_count": 33,
     "metadata": {},
     "output_type": "execute_result"
    },
    {
     "data": {
      "image/png": "[encoded data removed]",
      "text/plain": [
       "<Figure size 432x288 with 1 Axes>"
      ]
     },
     "metadata": {
      "needs_background": "light"
     },
     "output_type": "display_data"
    }
   ],
   "source": [
    "import matplotlib.pyplot as plt\n",
    "plt.figure()\n",
    "plt.plot(log_control['test'], c='r')\n",
    "plt.plot(log['test'], c='b')"
   ]
  },
  {
   "cell_type": "code",
   "execution_count": 14,
   "metadata": {},
   "outputs": [
    {
     "data": {
      "text/plain": [
       "[<matplotlib.lines.Line2D at 0x7f1f04098dd0>]"
      ]
     },
     "execution_count": 14,
     "metadata": {},
     "output_type": "execute_result"
    },
    {
     "data": {
      "image/png": "[encoded data removed]",
      "text/plain": [
       "<Figure size 432x288 with 1 Axes>"
      ]
     },
     "metadata": {
      "needs_background": "light"
     },
     "output_type": "display_data"
    }
   ],
   "source": [
    "import matplotlib.pyplot as plt\n",
    "plt.figure()\n",
    "plt.plot(log['test'], c='b')"
   ]
  }
 ],
 "metadata": {
  "kernelspec": {
   "display_name": "Python 3",
   "language": "python",
   "name": "python3"
  },
  "language_info": {
   "codemirror_mode": {
    "name": "ipython",
    "version": 3
   },
   "file_extension": ".py",
   "mimetype": "text/x-python",
   "name": "python",
   "nbconvert_exporter": "python",
   "pygments_lexer": "ipython3",
   "version": "3.7.7"
  }
 },
 "nbformat": 4,
 "nbformat_minor": 4
}
